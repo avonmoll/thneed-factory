{
 "metadata": {
  "name": "metplayback_nonblocking.ipynb"
 },
 "nbformat": 3,
 "nbformat_minor": 0,
 "worksheets": [
  {
   "cells": [
    {
     "cell_type": "markdown",
     "metadata": {},
     "source": [
      "Playing Beats Back\n",
      "=================="
     ]
    },
    {
     "cell_type": "code",
     "collapsed": false,
     "input": [
      "import pyaudio; import time; import wave; import threading\n",
      "\n",
      "class Met(threading.Thread):\n",
      "    def __init__(self, BPM):\n",
      "        super(Met,self).__init__()\n",
      "        self.wf = wave.open('Clicks\\PingLow.wav','rb')\n",
      "        self.CHUNK = 1024\n",
      "        self.frames = []\n",
      "        data = self.wf.readframes(self.CHUNK)\n",
      "        \n",
      "        # store all the bits of the wave file in local memory\n",
      "        while data != '':\n",
      "            self.frames.append(data)\n",
      "            data = self.wf.readframes(self.CHUNK)\n",
      "        \n",
      "        self.BPM = float(BPM)\n",
      "        self.p = pyaudio.PyAudio()\n",
      "        self.s = self.p.open(format=self.p.get_format_from_width(self.wf.getsampwidth()),\n",
      "                channels=self.wf.getnchannels(),\n",
      "                rate=self.wf.getframerate(),\n",
      "                output=True)\n",
      "                #stream_callback=callback)\n",
      " \n",
      "    def start(self):\n",
      "        #self.s.start_stream()\n",
      "        super(Met,self).start()\n",
      "    \n",
      "    def run(self): \n",
      "        delt = 60/self.BPM\n",
      "        for i in arange(16+1):\n",
      "            #t = threading.Timer(delt,click)\n",
      "            self.click()\n",
      "            time.sleep(delt)\n",
      "        self.s.stop_stream()\n",
      "        self.s.close()\n",
      "        self.wf.close()\n",
      "        self.p.terminate()\n",
      "        \n",
      "    def click(self):\n",
      "        for frame in self.frames:\n",
      "            self.s.write(frame)\n",
      "\n",
      "met = Met(150)\n",
      "met.start()\n",
      "print 'Print as the met starts'\n"
     ],
     "language": "python",
     "metadata": {},
     "outputs": [
      {
       "output_type": "stream",
       "stream": "stdout",
       "text": [
        "Print as the met starts\n"
       ]
      }
     ],
     "prompt_number": 2
    },
    {
     "cell_type": "code",
     "collapsed": false,
     "input": [],
     "language": "python",
     "metadata": {},
     "outputs": [],
     "prompt_number": 1
    }
   ],
   "metadata": {}
  }
 ]
}