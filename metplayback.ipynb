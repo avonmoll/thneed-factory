{
 "metadata": {
  "name": "metplayback.ipynb"
 },
 "nbformat": 3,
 "nbformat_minor": 0,
 "worksheets": [
  {
   "cells": [
    {
     "cell_type": "markdown",
     "metadata": {},
     "source": [
      "Playing Beats Back\n",
      "=="
     ]
    },
    {
     "cell_type": "code",
     "collapsed": false,
     "input": [
      "import pyaudio; import time; import wave\n",
      "\n",
      "# from pyAudio documentation for non-blocking call-back http://people.csail.mit.edu/hubert/pyaudio/docs/#example-callback-mode-audio-i-o\n",
      "\n",
      "wf = wave.open('Clicks\\PingHi.wav','rb')\n",
      "\n",
      "'''\n",
      "def callback(in_data, frame_count, time_info, status):\n",
      "    data = wf.readframes(frame_count)\n",
      "    return (data, pyaudio.paContinue)\n",
      "'''\n",
      "\n",
      "\n",
      "wf = wave.open('Clicks\\PingLow.wav','rb')\n",
      "CHUNK = 1024\n",
      "frames = []\n",
      "data = wf.readframes(CHUNK)\n",
      "while data != '':\n",
      "    frames.append(data)\n",
      "    data = wf.readframes(CHUNK)\n",
      "p = pyaudio.PyAudio()\n",
      "s = p.open(format=p.get_format_from_width(wf.getsampwidth()),\n",
      "        channels=wf.getnchannels(),\n",
      "        rate=wf.getframerate(),\n",
      "        output=True)\n",
      "        #stream_callback=callback)\n",
      "s.start_stream()\n",
      "    \n",
      "def click():\n",
      "    for frame in frames:\n",
      "        s.write(frame)\n",
      "    \n",
      "BPM = 120.\n",
      "delt = 60/BPM\n",
      "for i in arange(16+1):\n",
      "    click()\n",
      "    time.sleep(delt)\n",
      "\n",
      "s.stop_stream()\n",
      "s.close()\n",
      "wf.close()\n",
      "p.terminate()"
     ],
     "language": "python",
     "metadata": {},
     "outputs": [],
     "prompt_number": 6
    },
    {
     "cell_type": "code",
     "collapsed": false,
     "input": [],
     "language": "python",
     "metadata": {},
     "outputs": []
    }
   ],
   "metadata": {}
  }
 ]
}