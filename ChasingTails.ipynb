{
 "metadata": {
  "name": "chasingtails.ipynb"
 },
 "nbformat": 3,
 "nbformat_minor": 0,
 "worksheets": [
  {
   "cells": [
    {
     "cell_type": "markdown",
     "metadata": {},
     "source": [
      "#Chasing Tails#\n",
      "So Clicks can be [played out using a thread](http://nbviewer.ipython.org/url/raw.github.com/avonmoll/thneed-factory/master/metplayback_nonblocking.ipynb \"NonBlocking Met Playback\") (via the `Met` class) and [raw audio can be read in and manipulated](http://nbviewer.ipython.org/url/raw.github.com/avonmoll/thneed-factory/master/BeatDetection.ipynb \"Detecting Beats\").  Now the trick is to get this to happen simultaneously.  To make it an even bigger challenge it would be nice to update a plot in real time showing the occurrance of beats versus the metronome clicks (_not done yet_).  This is getting at the heart of what [this project]( \"main page not created yet\") is intending to accomplish.  First, however, the following questions must be answered:\n",
      "\n",
      "1. Is the thread implementation for `Met` viable for producing sounds on a regular interval?\n",
      "2. Would a thread implementation be appropriate for some kind of `Listener` class that can read in and manipulate the raw audio in the background?\n",
      "\n",
      "A (possible/naive) concern with going this route of thread-based execution is a breakdown of simultaneity between the two threads.  In order to verify the viability of this method the human aspect will be taken out of the loop"
     ]
    },
    {
     "cell_type": "markdown",
     "metadata": {},
     "source": [
      "##Hypothesis##\n",
      "If the audio output of the `Met` object is detected by the microphone via the `Listener` object and is shown to be coincident, then this is a viable implementation of simultaneous metronome output / input analaysis. \n",
      "\n",
      "![Crappily drawn MS Paint depiction](https://raw.github.com/avonmoll/thneed-factory/master/Pics/coincidence.jpg)\n",
      "\n",
      "For posteriety, I will reproduce the `Met` class here so this notebook will stand as a complete entity."
     ]
    },
    {
     "cell_type": "code",
     "collapsed": false,
     "input": [
      "import pyaudio; import time; import wave; import threading\n",
      "\n",
      "class Met(threading.Thread):\n",
      "    def __init__(self, BPM, parent=None):\n",
      "        super(Met,self).__init__()\n",
      "        self.parent = parent\n",
      "        \n",
      "        self.wf = wave.open('Clicks\\PingLow.wav','rb')\n",
      "        self.CHUNK = 1024\n",
      "        self.frames = []\n",
      "        data = self.wf.readframes(self.CHUNK)\n",
      "        \n",
      "        # store all the bits of the wave file in local memory\n",
      "        while data != '':\n",
      "            self.frames.append(data)\n",
      "            data = self.wf.readframes(self.CHUNK)\n",
      "        \n",
      "        self.BPM = float(BPM)\n",
      "        self.p = pyaudio.PyAudio()\n",
      "        self.s = self.p.open(format=self.p.get_format_from_width(self.wf.getsampwidth()),\n",
      "                channels=self.wf.getnchannels(),\n",
      "                rate=self.wf.getframerate(),\n",
      "                output=True)\n",
      " \n",
      "    def start(self):\n",
      "        super(Met,self).start()\n",
      "    \n",
      "    def run(self): \n",
      "        delt = 60/self.BPM\n",
      "        for i in arange(16+1):\n",
      "            self.click()\n",
      "            time.sleep(delt)\n",
      "        self.s.stop_stream()\n",
      "        self.s.close()\n",
      "        self.wf.close()\n",
      "        self.p.terminate()\n",
      "        \n",
      "    def click(self):\n",
      "        for frame in self.frames:\n",
      "            self.s.write(frame)\n",
      "        self.parent.expectedCallback(time.time())"
     ],
     "language": "python",
     "metadata": {},
     "outputs": [],
     "prompt_number": 93
    },
    {
     "cell_type": "markdown",
     "metadata": {},
     "source": [
      "##The `Listener` Class##\n",
      "The construction of this class will mainly be based off of code from the [Detecting Beats notebook](http://nbviewer.ipython.org/url/raw.github.com/avonmoll/thneed-factory/master/BeatDetection.ipynb \"Link to Beat Detection notebook\"), but it will be written in a thread fashion, similar to `Met`."
     ]
    },
    {
     "cell_type": "code",
     "collapsed": false,
     "input": [
      "class Listener(threading.Thread):\n",
      "    def __init__(self, parent=None):\n",
      "        super(Listener,self).__init__()\n",
      "        self._stop = threading.Event()\n",
      "        self.parent = parent\n",
      "        self.p = pyaudio.PyAudio()\n",
      "        self.mic = self.p.get_default_input_device_info();\n",
      "        self.s = pyaudio.Stream(self.p, \n",
      "                                rate=int(self.mic['defaultSampleRate']), \n",
      "                                channels=1,\n",
      "                                format=pyaudio.paInt32, \n",
      "                                input=True, \n",
      "                                start=False)\n",
      "        \n",
      "    def start(self):\n",
      "        self.tic = time.time()\n",
      "        self.s.start_stream()\n",
      "        super(Listener,self).start()\n",
      "    \n",
      "    def stop(self):\n",
      "        self._stop.set()\n",
      "        self.s.stop_stream()\n",
      "        self.s.close()\n",
      "        self.p.terminate()\n",
      "        \n",
      "    def stopped(self):\n",
      "        return self._stop.isSet()\n",
      "    \n",
      "    def run(self):\n",
      "        samples = []\n",
      "        thresh = 0.03*float(0xffffffff)\n",
      "        while not self._stop.isSet():\n",
      "            samples.append(self.s.read(1024))\n",
      "            signal = numpy.frombuffer(samples[-1],numpy.int32)\n",
      "            if numpy.any(numpy.where(abs(signal) > thresh)) and self.parent:\n",
      "                self.parent.listenCallback(\n",
      "                                  level=signal[abs(signal)>thresh][0], \n",
      "                                  t = time.time()\n",
      "                                  )\n",
      "                \n",
      "                # wait for level to decay\n",
      "                time.sleep(0.02)"
     ],
     "language": "python",
     "metadata": {},
     "outputs": [],
     "prompt_number": 94
    },
    {
     "cell_type": "markdown",
     "metadata": {},
     "source": [
      "##The `Logger` Class##\n",
      "This class is necessary to get some time stamped event information from instances of the `Met` and `Listener` classes.  At this point instances are created and passed a `Logger` instance.  The threads are started at nearly the same time, but just for posterity `ear` is started first so it cannot miss the first click."
     ]
    },
    {
     "cell_type": "code",
     "collapsed": false,
     "input": [
      "class Logger():\n",
      "    def __init__(self):\n",
      "        self.expectedTimes = []\n",
      "        self.heardTimes = []\n",
      "   \n",
      "    # first define callback for listener class to grab data sent from Listener\n",
      "    def listenCallback(self,level,t):\n",
      "        self.heardTimes.append(t)\n",
      "        \n",
      "    def expectedCallback(self,t):\n",
      "        self.expectedTimes.append(t)\n",
      "\n",
      "BPM = 150\n",
      "logger = Logger()\n",
      "mrBeat = Met(BPM,logger)\n",
      "ear = Listener(logger)\n",
      "\n",
      "ear.start()\n",
      "mrBeat.start()\n",
      "# wait for mrBeat thread to finish\n",
      "mrBeat.join()\n",
      "ear.stop()"
     ],
     "language": "python",
     "metadata": {},
     "outputs": [],
     "prompt_number": 95
    },
    {
     "cell_type": "markdown",
     "metadata": {},
     "source": [
      "##Processing the Results##\n",
      "Hopefully `logger`'s `listenCallback` function was called by `ear`, otherwise there is no data to work with.  Barring that possibility, the two arrays of event times should be normalized by the timing of the first metronome _Click_.  As long as `ear` heard the same number of beats that `mrBeat` emitted the latency can be computed."
     ]
    },
    {
     "cell_type": "code",
     "collapsed": false,
     "input": [
      "expectedTimes = numpy.array(logger.expectedTimes)\n",
      "heardTimes = numpy.array(logger.heardTimes)\n",
      "\n",
      "if len(heardTimes) > 0:\n",
      "    heardTimes = heardTimes - expectedTimes[0]\n",
      "    expectedTimes = expectedTimes - expectedTimes[0]\n",
      "    \n",
      "    width = .05\n",
      "    fig, ax1 = pyplot.subplots()\n",
      "    pyplot.title('Concurrency Check')\n",
      "    pyplot.xlabel('Time (s)')\n",
      "    ax1.bar(expectedTimes-width/2, 1.05*numpy.ones((len(expectedTimes),)), \n",
      "        width=width, color='r', edgecolor='none', alpha=0.5)\n",
      "    ax1.bar(heardTimes-width/2, numpy.ones((len(heardTimes),)), \n",
      "        width=width,color='b', edgecolor='none', alpha=0.5)\n",
      "    ax1.set_ylabel('Beat')\n",
      "    \n",
      "    if len(heardTimes) == len(expectedTimes):\n",
      "        ax2 = ax1.twinx()\n",
      "        ax2.plot(expectedTimes,heardTimes-expectedTimes,'y-o',markeredgecolor='b')\n",
      "        ax2.set_ylabel('Latency (s)',color='y')\n",
      "        #for tl in ax2.get_yticklabels():\n",
      "        #    tl.set_color('y')\n",
      "    \n",
      "    l = ax1.legend(('Met','Listener'), loc='upper left',bbox_to_anchor=(-.375,1))\n",
      "    \n",
      "else:\n",
      "    print('didnt hear')"
     ],
     "language": "python",
     "metadata": {},
     "outputs": [
      {
       "metadata": {},
       "output_type": "display_data",
       "png": "[encoded data removed]",
       "text": [
        "<matplotlib.figure.Figure at 0x8204a90>"
       ]
      }
     ],
     "prompt_number": 138
    },
    {
     "cell_type": "code",
     "collapsed": false,
     "input": [
      "print('Avg Latency = %.2f ms\\n'%(1000*numpy.mean(heardTimes-expectedTimes)) +\\\n",
      "      'Std Dev     = %.2f ms'%(1000*numpy.std(heardTimes-expectedTimes)))"
     ],
     "language": "python",
     "metadata": {},
     "outputs": [
      {
       "output_type": "stream",
       "stream": "stdout",
       "text": [
        "Avg Latency = 58.29 ms\n",
        "Std Dev     = 10.55 ms\n"
       ]
      }
     ],
     "prompt_number": 148
    },
    {
     "cell_type": "markdown",
     "metadata": {},
     "source": [
      "##Conclusion##\n",
      "This implementation actually performed pretty poorly.  Some latency was expected in going this route, but unfortunately it is very inconsistent (as evidenced by the standard deviation calculation, above).  \n",
      "\n",
      "Assuming the standard deviation is `10 ms`, that would equate to\n",
      "\n",
      "$${\\large \\dfrac{1 \\textrm{ beat}}{10 \\textrm{ ms}}\\cdot\\dfrac{60000 \\textrm{ ms}}{1 \\textrm{ min}}\\cdot\\dfrac{1 \\textrm{ beat}}{32 \\textrm{ 32nd notes}} = \\textrm{ one 32nd note at 187.5 BPM}}$$\n",
      "\n",
      "This is getting close to the accuracy that this project is trying to discriminate in a drummer's playing - __and that's just the standard deviation__.  So even if we assume some average latency and subtract that from each registered hit, we could still be off by this much (or more) on any given reading.  Next up, I'll be looking into reading some chapter from _Tkinter GUI Application Development HOTSHOT_ entitled _Programmable Drum Machine_ since that sounds fairly relevant.  Also, there may be some gold hidden in some of [these other Python music modules](https://wiki.python.org/moin/PythonInMusic \"Why didn't I look here first?\")"
     ]
    },
    {
     "cell_type": "code",
     "collapsed": false,
     "input": [],
     "language": "python",
     "metadata": {},
     "outputs": []
    }
   ],
   "metadata": {}
  }
 ]
}