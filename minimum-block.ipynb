{
 "metadata": {
  "name": "Minimum Block"
 },
 "nbformat": 3,
 "nbformat_minor": 0,
 "worksheets": [
  {
   "cells": [
    {
     "cell_type": "heading",
     "level": 1,
     "metadata": {},
     "source": [
      "Finding the Block with the Smallest Number"
     ]
    },
    {
     "cell_type": "markdown",
     "metadata": {},
     "source": [
      "<img src=\"https://encrypted-tbn2.gstatic.com/images?q=tbn:ANd9GcSVUawG9VyEn-JigaWLefMTDteksXsfTMuo-oQqu3dukPTDp9cG\">"
     ]
    },
    {
     "cell_type": "markdown",
     "metadata": {},
     "source": [
      "<h2>The Problem</h2>\n",
      "You're given a row of 10 blocks, each with a number printed on the block.  The numbers are arbitrary, but you can imagine that they are generated randomly at the start of problem.  Unfortunately you're mostly blind, so you can only read the numbers of the blocks you are holding.  Since you have two hands, we'll assume you can hold, at most, one block in each hand for a total of two blocks at a time.  Imagine you're getting old, so your brain is not what it used to be -- let's assume you can only remember one number at a time.  This last bit of information may be useful, but is not entirely necessary to come up with a solution.  The end goal of this scenario is to identify (i.e. report) the minimum number that was observed on the blocks. "
     ]
    },
    {
     "cell_type": "markdown",
     "metadata": {},
     "source": [
      "<h2>Your Operations</h2>\n",
      "So what are you able to do in this crazy world?  Your actions are:\n",
      "<ul><li>pick up block (left hand)</li>\n",
      "<li>pick up block (right hand)</li>\n",
      "<li>set a block down anywhere</li>\n",
      "<li>compare the numbers on the blocks (i.e. perform <, >, and = checks)</li>"
     ]
    },
    {
     "cell_type": "markdown",
     "metadata": {},
     "source": [
      "<h2>The Solution(s)</h2>\n",
      "<h3>My Solution</h3>\n",
      "<ol><li>Pick up block (left hand)</li>\n",
      "<li>Pick up block (empty hand)</li>\n",
      "<li>Compare blocks</li>\n",
      "    <ol>\n",
      "    <li>If right block &gt; left block Then set right block down (discard)</li>\n",
      "    <li>Otherwise, set left block down (discard)</li>\n",
      "    </ol>\n",
      "<li>While there are blocks left, go to Step 2</li>\n",
      "<li>Report the number on the only block in your hands</li>\n",
      "</ol>"
     ]
    },
    {
     "cell_type": "markdown",
     "metadata": {},
     "source": [
      "<h3>Your Solution (Recursion)</h3>\n",
      "<ol><li>Pick up block (left hand)</li>\n",
      "<li>Pick up block (right hand)</li>\n",
      "<li>Compare blocks</li>\n",
      "    <ol><li>If right block &gt; left block Then <ul><li>set right block down (discard)</li><li>set left block down below row from which it was picked</li></ul></li>\n",
      "    <li>Otherwise <ul><li>set left block down (discard)</li><li>set right block down below row from which it was picked</li></ul></li>\n",
      "    </ol>\n",
      "<li>While there is at least 2 blocks in the bottom row, go to Step 1 and pick from bottom row</li>\n",
      "<li>Pick up single block on bottom row</li>\n",
      "<li>Report the number on the only block in your hands</li></ol>\n",
      "\n",
      "There is one caveat to your solution which is that the number of blocks, $n$, needs to be of the form $n = 2^k$ where $k$ is an integer.  In other words, there always needs to be an even number of blocks in the row you're picking from, so with 10 blocks after one recursive step there are 5 blocks left, which won't work.  That's fine though, since 10 is a somewhat arbitrary number anyhow -- we'll look at coding both of these solutions."
     ]
    },
    {
     "cell_type": "markdown",
     "metadata": {},
     "source": [
      "<h2>Working with Python</h2>\n",
      "There are really two ways that I would suggest on how to work with Python.  The first way involves making an interactive notebook (which is how I'm generating this document) so you can experiment with Python commands and whatnot, and the other is to run Canopy.  Notebooks are run and edited through the web browser (I'm using Firefox, which is working okay).  To open up the notebook dashboard open Windows Command Prompt and type:"
     ]
    },
    {
     "cell_type": "raw",
     "metadata": {},
     "source": [
      "ipython notebook"
     ]
    },
    {
     "cell_type": "markdown",
     "metadata": {},
     "source": [
      "This should open a page that doesn't have much on it.  You should find a button that says 'New Notebook'.  Simply click this button to generate a new notebook in your root directory.  The notebook operates in 'cells', which allow you to execute single statements or groups of statements at a time.  For example, if I want to declare a variable and set it to 42, then print that number I could type the following (as a 'code cell'):"
     ]
    },
    {
     "cell_type": "code",
     "collapsed": false,
     "input": [
      "x = 42\n",
      "print x"
     ],
     "language": "python",
     "metadata": {},
     "outputs": [
      {
       "output_type": "stream",
       "stream": "stdout",
       "text": [
        "42\n"
       ]
      }
     ],
     "prompt_number": 1
    },
    {
     "cell_type": "markdown",
     "metadata": {},
     "source": [
      "Once I typed in the Python statements, I hit Shift+Enter to EXECUTE the code.  Notice that any output from the statements will be appended to the cell -- in this case, Python printed the number 42.  IPython notebooks support HTML in the form of 'markdown cells', so you can document your thoughts in the same view with the code, which is really helpful for learning.  For more information about using the notebook check here: http://nbviewer.ipython.org/urls/github.com/ipython/ipython/raw/master/examples/notebooks/Part%25201%2520-%2520Running%2520Code.ipynb.  If you're not comfortable with the notebook interface, the other option is to use Canopy.  Upon launching Canopy, simply open up the Editor and create a new file.  Say I want to create a python file that does the same thing as the notebook example I just gave above.  Simply type in the Python statements into the blank file (the top tile) and save.  Remember to include the file extension '.py' when you save the file.  The bottom window of the Canopy Editor is the <i>shell</i>, which functions much like a code cell in the notebook.  To run your code, simply type the following (replacing <i>file</i> with whatever you named the file):"
     ]
    },
    {
     "cell_type": "raw",
     "metadata": {},
     "source": [
      "%run <file.py>"
     ]
    },
    {
     "cell_type": "markdown",
     "metadata": {},
     "source": [
      "You should see something like"
     ]
    },
    {
     "cell_type": "raw",
     "metadata": {},
     "source": [
      "Out [1]: 42"
     ]
    },
    {
     "cell_type": "markdown",
     "metadata": {},
     "source": [
      "For now, I'll refer you to a somewhat crash course in Python basics to give you a flavor of how we will translate our algorithms into real Python code:\n",
      "<ul><li><a href='https://github.com/profjsb/python-bootcamp/blob/master/Lectures/01_BasicTraining/day_1_basic_training.pdf'>The Basics (PDF)</a></li>\n",
      "<li><a href='http://nbviewer.ipython.org/urls/github.com/profjsb/python-bootcamp/raw/master/DataFiles_and_Notebooks/02_AdvancedDataStructures/data_structures.ipynb'>Data Structures (IPython Notebook! :D)</a></li></ul>"
     ]
    }
   ],
   "metadata": {}
  }
 ]
}
